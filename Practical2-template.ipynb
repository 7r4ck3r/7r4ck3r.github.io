{
 "cells": [
  {
   "cell_type": "markdown",
   "metadata": {},
   "source": [
    "# First Name: Haoyu\n",
    "# Last Name: Mi ( personal id：7r4ck3r   finish date  14:02  10.29)"
   ]
  },
  {
   "cell_type": "code",
   "execution_count": 1,
   "metadata": {
    "collapsed": true
   },
   "outputs": [],
   "source": [
    "import pandas as pd\n",
    "import numpy as np"
   ]
  },
  {
   "cell_type": "code",
   "execution_count": 2,
   "metadata": {
    "collapsed": true
   },
   "outputs": [],
   "source": [
    "nesarc = pd.read_csv('nesarc.csv', low_memory=False)\n",
    "pd.set_option('display.float_format', lambda x: '%f' % x) # display numbers in standard format instead of scientific notation"
   ]
  },
  {
   "cell_type": "code",
   "execution_count": 3,
   "metadata": {
    "collapsed": true
   },
   "outputs": [],
   "source": [
    "nesarc['S2AQ5A'] = pd.to_numeric(nesarc['S2AQ5A'], errors='coerce')\n",
    "nesarc['S2AQ5B'] = pd.to_numeric(nesarc['S2AQ5B'], errors='coerce')\n",
    "nesarc['S2AQ5D'] = pd.to_numeric(nesarc['S2AQ5D'], errors='coerce') "
   ]
  },
  {
   "cell_type": "markdown",
   "metadata": {},
   "source": [
    "# For Beer drinking status (S2AQ5A) fill in nan value with 11 & print first 10 rows"
   ]
  },
  {
   "cell_type": "code",
   "execution_count": 4,
   "metadata": {},
   "outputs": [
    {
     "name": "stderr",
     "output_type": "stream",
     "text": [
      "C:\\Users\\86137\\AppData\\Local\\Temp\\ipykernel_22716\\3468020676.py:1: FutureWarning: A value is trying to be set on a copy of a DataFrame or Series through chained assignment using an inplace method.\n",
      "The behavior will change in pandas 3.0. This inplace method will never work because the intermediate object on which we are setting values always behaves as a copy.\n",
      "\n",
      "For example, when doing 'df[col].method(value, inplace=True)', try using 'df.method({col: value}, inplace=True)' or df[col] = df[col].method(value) instead, to perform the operation inplace on the original object.\n",
      "\n",
      "\n",
      "  nesarc['S2AQ5A'].fillna(11, inplace=True)\n"
     ]
    },
    {
     "data": {
      "text/plain": [
       "0   11.000000\n",
       "1    1.000000\n",
       "2   11.000000\n",
       "3   11.000000\n",
       "4   11.000000\n",
       "5    2.000000\n",
       "6    2.000000\n",
       "7    2.000000\n",
       "8    1.000000\n",
       "9    2.000000\n",
       "Name: S2AQ5A, dtype: float64"
      ]
     },
     "execution_count": 4,
     "metadata": {},
     "output_type": "execute_result"
    }
   ],
   "source": [
    "nesarc['S2AQ5A'].fillna(11, inplace=True)\n",
    "nesarc['S2AQ5A'].head(10)"
   ]
  },
  {
   "cell_type": "markdown",
   "metadata": {},
   "source": [
    "# For S2BQ1B1 - Effects of beer drinking (Beer Dependence) in the last 12 months replace 9 (unknown) in S2BQ1B1 (effects of beer consumtion in the last 12 months) to nan\n",
    "# & print first 10 rows"
   ]
  },
  {
   "cell_type": "code",
   "execution_count": 8,
   "metadata": {
    "collapsed": true
   },
   "outputs": [
    {
     "data": {
      "text/plain": [
       "0   11.000000\n",
       "1    1.000000\n",
       "2   11.000000\n",
       "3   11.000000\n",
       "4   11.000000\n",
       "5    2.000000\n",
       "6    2.000000\n",
       "7    2.000000\n",
       "8    1.000000\n",
       "9    2.000000\n",
       "Name: S2AQ5A, dtype: float64"
      ]
     },
     "execution_count": 8,
     "metadata": {},
     "output_type": "execute_result"
    }
   ],
   "source": [
    "nesarc['S2BQ1B1'] =nesarc['S2BQ1B1'].replace(9, np.nan)\n",
    "nesarc['S2AQ5A'].head(10)"
   ]
  },
  {
   "cell_type": "markdown",
   "metadata": {},
   "source": [
    "# Recode S2BQ1B1 so that\n",
    "# 0 is no \n",
    "# 1 is yes\n",
    "# currently 2 is no\n",
    "# & print first 5 rows \n"
   ]
  },
  {
   "cell_type": "code",
   "execution_count": 72,
   "metadata": {
    "collapsed": true
   },
   "outputs": [
    {
     "data": {
      "text/plain": [
       "0   NaN\n",
       "1   NaN\n",
       "2   NaN\n",
       "3   NaN\n",
       "4   NaN\n",
       "Name: S2BQ1B1, dtype: float64"
      ]
     },
     "execution_count": 72,
     "metadata": {},
     "output_type": "execute_result"
    }
   ],
   "source": [
    "recode = {2: 0, 1: 1} #根据题目要求。重新编码，将 2 替换为 0\n",
    "nesarc['S2BQ1B1'] = nesarc['S2BQ1B1'].replace(recode)\n",
    "nesarc['S2BQ1B1'].head(5)"
   ]
  },
  {
   "cell_type": "markdown",
   "metadata": {},
   "source": [
    "# Obtain a subset of nesarc data, with the following criteria\n",
    "# Age from 26 to 50\n",
    "# Beer drinking status - S2AQ5A = Y"
   ]
  },
  {
   "cell_type": "code",
   "execution_count": 12,
   "metadata": {
    "collapsed": true
   },
   "outputs": [],
   "source": [
    "nesarc['AGE'] = pd.to_numeric(nesarc['AGE'])\n",
    "\n",
    "#subset data to young adults age 26 to 50 who have drink beer in the past 12 months\n",
    "sub1=nesarc[(nesarc['AGE'] >= 26) & (nesarc['AGE'] <= 50) & (nesarc['S2AQ5A'] == 1)]"
   ]
  },
  {
   "cell_type": "markdown",
   "metadata": {},
   "source": [
    "# Copy sub 1 to sub 2"
   ]
  },
  {
   "cell_type": "code",
   "execution_count": 70,
   "metadata": {
    "collapsed": true
   },
   "outputs": [
    {
     "data": {
      "text/plain": [
       "10517"
      ]
     },
     "execution_count": 70,
     "metadata": {},
     "output_type": "execute_result"
    }
   ],
   "source": [
    "sub2 = sub1.copy()\n",
    "sub2.head()\n",
    "len(sub2)"
   ]
  },
  {
   "cell_type": "markdown",
   "metadata": {},
   "source": [
    "# Use sub2 data\n",
    "# Print the count of HOW OFTEN DRANK BEER IN LAST 12 MONTHS (S2AQ5B)"
   ]
  },
  {
   "cell_type": "code",
   "execution_count": 21,
   "metadata": {
    "collapsed": true
   },
   "outputs": [
    {
     "name": "stdout",
     "output_type": "stream",
     "text": [
      "counts for original S2AQ5B\n",
      "S2AQ5B\n",
      "10.000000    1270\n",
      "9.000000     1226\n",
      "7.000000     1229\n",
      "6.000000     1579\n",
      "4.000000     1310\n",
      "8.000000      682\n",
      "5.000000     1485\n",
      "2.000000      369\n",
      "1.000000      417\n",
      "3.000000      925\n",
      "99.000000      25\n",
      "Name: count, dtype: int64\n"
     ]
    }
   ],
   "source": [
    "c_beer_feq = sub2['S2AQ5B'].value_counts(sort=False, dropna=False)\n",
    "print('counts for original S2AQ5B')\n",
    "print(c_beer_feq)"
   ]
  },
  {
   "cell_type": "markdown",
   "metadata": {},
   "source": [
    "# Based on my research, I'm assuming that drinking less than once a month is not going to affect a person. So, we are going replace the following in 'HOW OFTEN DRANK BEER IN LAST 12 MONTHS (S2AQ5B)' to nan\n",
    "# 8\n",
    "# 9\n",
    "# 10\n",
    "# 99"
   ]
  },
  {
   "cell_type": "code",
   "execution_count": 23,
   "metadata": {
    "collapsed": true
   },
   "outputs": [],
   "source": [
    "sub2['S2AQ5B']= sub2['S2AQ5B'].replace(8, np.nan)   #把要求的都替换为nan\n",
    "sub2['S2AQ5B']= sub2['S2AQ5B'].replace(9, np.nan)\n",
    "sub2['S2AQ5B']= sub2['S2AQ5B'].replace(10, np.nan)\n",
    "sub2['S2AQ5B']= sub2['S2AQ5B'].replace(99, np.nan)"
   ]
  },
  {
   "cell_type": "markdown",
   "metadata": {},
   "source": [
    "# Use sub2 data\n",
    "# Print the count of HOW OFTEN DRANK BEER IN LAST 12 MONTHS (S2AQ5B) with 8, 9, 10 and 99 set nan"
   ]
  },
  {
   "cell_type": "code",
   "execution_count": 26,
   "metadata": {
    "collapsed": true
   },
   "outputs": [
    {
     "name": "stdout",
     "output_type": "stream",
     "text": [
      "counts for original S2AQ5B with 8, 9, 10 and 99 set to NAN \n",
      "S2AQ5B\n",
      "6.000000    1579\n",
      "5.000000    1485\n",
      "4.000000    1310\n",
      "7.000000    1229\n",
      "3.000000     925\n",
      "1.000000     417\n",
      "2.000000     369\n",
      "Name: count, dtype: int64\n"
     ]
    }
   ],
   "source": [
    "c_beer_feq_nan = sub2['S2AQ5B'].value_counts(dropna=True) # 计算 S2AQ5B 列中的值计数（排除 NaN）\n",
    "print('counts for original S2AQ5B with 8, 9, 10 and 99 set to NAN ')\n",
    "print(c_beer_feq_nan)"
   ]
  },
  {
   "cell_type": "markdown",
   "metadata": {},
   "source": [
    "# Use sub2 data\n",
    "# Count the NUMBER OF BEERS USUALLY CONSUMED ON DAYS WHEN DRANK BEER IN LAST 12 MONTHS (S2AQ5D) "
   ]
  },
  {
   "cell_type": "code",
   "execution_count": 69,
   "metadata": {
    "collapsed": true
   },
   "outputs": [
    {
     "name": "stdout",
     "output_type": "stream",
     "text": [
      "counts for S2AQ5D\n",
      "S2AQ5D\n",
      "1.000000     3625\n",
      "2.000000     3087\n",
      "3.000000     1619\n",
      "4.000000      749\n",
      "5.000000      278\n",
      "6.000000      702\n",
      "7.000000       57\n",
      "8.000000      106\n",
      "9.000000       19\n",
      "10.000000      53\n",
      "11.000000       1\n",
      "12.000000     150\n",
      "13.000000       1\n",
      "14.000000       3\n",
      "15.000000       7\n",
      "17.000000       1\n",
      "18.000000      12\n",
      "20.000000       3\n",
      "24.000000      12\n",
      "30.000000       1\n",
      "Name: count, dtype: int64\n"
     ]
    }
   ],
   "source": [
    "c_beer_quan = sub2['S2AQ5D'].value_counts(dropna=True,sort=False).sort_index() # 存储了 S2AQ5D 列中每个值的计数，并按数值从小到大排序\n",
    "print('counts for S2AQ5D') \n",
    "print(c_beer_quan)"
   ]
  },
  {
   "cell_type": "markdown",
   "metadata": {},
   "source": [
    "# Use sub2\n",
    "# Replace the 99  in 'NUMBER OF BEERS USUALLY CONSUMED ON DAYS WHEN DRANK BEER IN LAST 12 MONTHS (S2AQ5D)' to nan"
   ]
  },
  {
   "cell_type": "code",
   "execution_count": 32,
   "metadata": {
    "collapsed": true
   },
   "outputs": [],
   "source": [
    "sub2['S2AQ5D'] = sub2['S2AQ5D'].replace(99, np.nan)"
   ]
  },
  {
   "cell_type": "markdown",
   "metadata": {},
   "source": [
    "# Print the count of 'NUMBER OF BEERS USUALLY CONSUMED ON DAYS WHEN DRANK BEER IN LAST 12 MONTHS (S2AQ5D)'- with 99 set to NAN"
   ]
  },
  {
   "cell_type": "code",
   "execution_count": 34,
   "metadata": {
    "collapsed": true
   },
   "outputs": [
    {
     "name": "stdout",
     "output_type": "stream",
     "text": [
      "counts for S2AQ5D with 99 set to NAN\n",
      "S2AQ5D\n",
      "1.000000     3625\n",
      "2.000000     3087\n",
      "3.000000     1619\n",
      "4.000000      749\n",
      "5.000000      278\n",
      "6.000000      702\n",
      "7.000000       57\n",
      "8.000000      106\n",
      "9.000000       19\n",
      "10.000000      53\n",
      "11.000000       1\n",
      "12.000000     150\n",
      "13.000000       1\n",
      "14.000000       3\n",
      "15.000000       7\n",
      "17.000000       1\n",
      "18.000000      12\n",
      "20.000000       3\n",
      "24.000000      12\n",
      "30.000000       1\n",
      "Name: count, dtype: int64\n"
     ]
    }
   ],
   "source": [
    "c_beer_quan_nan = sub2['S2AQ5D'].value_counts(sort=False,dropna=True).sort_index()\n",
    "print('counts for S2AQ5D with 99 set to NAN')\n",
    "print(c_beer_quan_nan)"
   ]
  },
  {
   "cell_type": "markdown",
   "metadata": {},
   "source": [
    "# Use sub2\n",
    "# Recode HOW OFTEN DRANK BEER IN LAST 12 MONTHS (S2AQ5B) \n",
    "# as following\n",
    "\n",
    "# 1 to 7\n",
    "# 2 to 6\n",
    "# 3 to 5\n",
    "# 5 to 3\n",
    "# 6 to 2 \n",
    "# 7 to 1\n",
    "\n",
    "# so that larger categorical numbers indicate more frequently someone drinks beer\n",
    "\n",
    "# print the count for BEER-FEQ"
   ]
  },
  {
   "cell_type": "code",
   "execution_count": 36,
   "metadata": {
    "collapsed": true
   },
   "outputs": [
    {
     "name": "stdout",
     "output_type": "stream",
     "text": [
      "counts for S2AQ5B\n",
      "BEER_FEQ\n",
      "1.000000    1229\n",
      "2.000000    1579\n",
      "3.000000    1485\n",
      "6.000000     369\n",
      "7.000000     417\n",
      "5.000000     925\n",
      "Name: count, dtype: int64\n"
     ]
    }
   ],
   "source": [
    "recode1 = {1:7,2:6,3:5,5:3,6:2,7:1} #recoding so that higher numbers mean more smoking frequency\n",
    "sub2['BEER_FEQ'] = sub2['S2AQ5B'].map(recode1) #map() 函数将 sub2['S2AQ5B'] 列的值根据 recode1 字典进行映射\n",
    "\n",
    "recode_beer_feq = sub2['BEER_FEQ'].value_counts(sort=False) #get count in each category\n",
    "print('counts for S2AQ5B')\n",
    "print(recode_beer_feq)"
   ]
  },
  {
   "cell_type": "markdown",
   "metadata": {},
   "source": [
    "# Use sub 2\n",
    "# Recode HOW OFTEN DRANK BEER IN LAST 12 MONTHS (S2AQ5B) \n",
    "# as following\n",
    "\n",
    "# 1 to 30\n",
    "# 2 to 26\n",
    "# 3 to 14\n",
    "# 4 to 8\n",
    "# 5 to 4\n",
    "# 6 to 2.5 \n",
    "# 7 to 1\n",
    "\n",
    "# so that larger categorical numbers indicate more frequently someone drinks beer\n",
    "\n",
    "# print count of BEER_REQMO"
   ]
  },
  {
   "cell_type": "code",
   "execution_count": 68,
   "metadata": {
    "collapsed": true
   },
   "outputs": [
    {
     "name": "stdout",
     "output_type": "stream",
     "text": [
      "counts for BEER_FEQMO\n",
      "BEER_FEQMO\n",
      "1.000000    1229\n",
      "2.000000    1579\n",
      "3.000000    1485\n",
      "6.000000     369\n",
      "7.000000     417\n",
      "5.000000     925\n",
      "Name: count, dtype: int64\n"
     ]
    }
   ],
   "source": [
    "#recoding values for S2AQ5B into a new variable, BEER_FEQMO\n",
    "recode2 = {1:30,2:26,3:14,4:8,5:4,6:2.5,7:1}#recode to quantitative variable\n",
    "sub2['BEER_FEQMO'] = sub2['S2AQ5B'].map(recode1) \n",
    "\n",
    "recode_beer_feq_m = sub2['BEER_FEQMO'].value_counts(sort=False) #get count in each category ；(sort=False为不把数值降序排列)\n",
    "print('counts for BEER_FEQMO')\n",
    "print(recode_beer_feq_m)"
   ]
  },
  {
   "cell_type": "markdown",
   "metadata": {},
   "source": [
    "# Use sub2\n",
    "# Create secondary variable NUMBEERMO_EST\n",
    "# NUMBEERMO_EST = BEER_FEQMO * S2AQ5D "
   ]
  },
  {
   "cell_type": "code",
   "execution_count": 66,
   "metadata": {
    "collapsed": true
   },
   "outputs": [
    {
     "data": {
      "text/plain": [
       "1         NaN\n",
       "8         NaN\n",
       "12   4.000000\n",
       "16        NaN\n",
       "24        NaN\n",
       "Name: NUMBEERMO_EST, dtype: float64"
      ]
     },
     "execution_count": 66,
     "metadata": {},
     "output_type": "execute_result"
    }
   ],
   "source": [
    "sub2['NUMBEERMO_EST']= sub2['BEER_FEQMO'] * sub2['S2AQ5D'] #get the number of beers consumed  per month\n",
    "sub2['NUMBEERMO_EST'].head()\n"
   ]
  },
  {
   "cell_type": "markdown",
   "metadata": {},
   "source": [
    "# print the count for age"
   ]
  },
  {
   "cell_type": "code",
   "execution_count": 55,
   "metadata": {
    "collapsed": true
   },
   "outputs": [
    {
     "name": "stdout",
     "output_type": "stream",
     "text": [
      "counts for AGE\n",
      "AGE\n",
      "28    347\n",
      "29    407\n",
      "31    453\n",
      "38    504\n",
      "36    464\n",
      "44    381\n",
      "32    502\n",
      "42    463\n",
      "33    423\n",
      "39    464\n",
      "40    497\n",
      "34    462\n",
      "45    434\n",
      "26    325\n",
      "41    445\n",
      "48    377\n",
      "43    398\n",
      "50    325\n",
      "35    416\n",
      "49    331\n",
      "37    498\n",
      "46    396\n",
      "27    397\n",
      "30    443\n",
      "47    365\n",
      "Name: count, dtype: int64\n"
     ]
    }
   ],
   "source": [
    "#examining frequency distributions for age\n",
    "c_age = sub2['AGE'].value_counts(sort=False)\n",
    "print('counts for AGE')\n",
    "print(c_age)"
   ]
  },
  {
   "cell_type": "markdown",
   "metadata": {},
   "source": [
    "# use sub2\n",
    "# print percentag for age"
   ]
  },
  {
   "cell_type": "code",
   "execution_count": 57,
   "metadata": {
    "collapsed": true
   },
   "outputs": [
    {
     "name": "stdout",
     "output_type": "stream",
     "text": [
      "percentages for AGE\n",
      "AGE\n",
      "28   0.032994\n",
      "29   0.038699\n",
      "31   0.043073\n",
      "38   0.047922\n",
      "36   0.044119\n",
      "44   0.036227\n",
      "32   0.047732\n",
      "42   0.044024\n",
      "33   0.040221\n",
      "39   0.044119\n",
      "40   0.047257\n",
      "34   0.043929\n",
      "45   0.041267\n",
      "26   0.030902\n",
      "41   0.042312\n",
      "48   0.035847\n",
      "43   0.037843\n",
      "50   0.030902\n",
      "35   0.039555\n",
      "49   0.031473\n",
      "37   0.047352\n",
      "46   0.037653\n",
      "27   0.037748\n",
      "30   0.042122\n",
      "47   0.034706\n",
      "Name: proportion, dtype: float64\n"
     ]
    }
   ],
   "source": [
    "p_age = sub2['AGE'].value_counts(sort=False, normalize=True) * 100 #小数转换为百分比                   \n",
    "print('percentages for AGE')\n",
    "print(p_age)"
   ]
  },
  {
   "cell_type": "markdown",
   "metadata": {},
   "source": [
    "# Group age into 3 groups\n",
    "# 26 - 33\n",
    "# 34 - 41\n",
    "# 42 - 50"
   ]
  },
  {
   "cell_type": "code",
   "execution_count": 67,
   "metadata": {
    "collapsed": true
   },
   "outputs": [],
   "source": [
    "# splits into 3 groups (26-50) - remember that Python starts counting from 0, not 1\n",
    "sub2['AGEGROUP3'] = pd.cut(sub2['AGE'], [25, 33, 41, 50]) #设置分组的边界，pd.cut() 会将 AGE 列中的值根据这些边界进行分组。这里需要注意，25 是为了确保 26 被包括在内。"
   ]
  },
  {
   "cell_type": "markdown",
   "metadata": {},
   "source": [
    "# print the count of this new group"
   ]
  },
  {
   "cell_type": "code",
   "execution_count": 59,
   "metadata": {
    "collapsed": true
   },
   "outputs": [
    {
     "name": "stdout",
     "output_type": "stream",
     "text": [
      "counts for AGEGROUP3\n",
      "AGEGROUP3\n",
      "(25, 33]    3297\n",
      "(33, 41]    3750\n",
      "(41, 50]    3470\n",
      "Name: count, dtype: int64\n"
     ]
    }
   ],
   "source": [
    "c_age_group = sub2['AGEGROUP3'].value_counts(sort=False, dropna=True)\n",
    "print('counts for AGEGROUP3')\n",
    "print(c_age_group)"
   ]
  },
  {
   "cell_type": "markdown",
   "metadata": {},
   "source": [
    "# print the percentage of this new group"
   ]
  },
  {
   "cell_type": "code",
   "execution_count": 60,
   "metadata": {
    "collapsed": true
   },
   "outputs": [
    {
     "name": "stdout",
     "output_type": "stream",
     "text": [
      "percentages for AGEGROUP3\n",
      "AGEGROUP3\n",
      "(25, 33]   31.349244\n",
      "(33, 41]   35.656556\n",
      "(41, 50]   32.994200\n",
      "Name: proportion, dtype: float64\n"
     ]
    }
   ],
   "source": [
    "print('percentages for AGEGROUP3')\n",
    "p_age_group = sub2['AGEGROUP3'].value_counts(sort=False, normalize=True) * 100\n",
    "print(p_age_group)"
   ]
  },
  {
   "cell_type": "markdown",
   "metadata": {},
   "source": [
    "# Print the crosstab between AGEGROUP3 and AGE"
   ]
  },
  {
   "cell_type": "code",
   "execution_count": 62,
   "metadata": {
    "collapsed": true
   },
   "outputs": [
    {
     "name": "stdout",
     "output_type": "stream",
     "text": [
      "AGE         26   27   28   29   30   31   32   33   34   35  ...   41   42  \\\n",
      "AGEGROUP3                                                    ...             \n",
      "(25, 33]   325  397  347  407  443  453  502  423    0    0  ...    0    0   \n",
      "(33, 41]     0    0    0    0    0    0    0    0  462  416  ...  445    0   \n",
      "(41, 50]     0    0    0    0    0    0    0    0    0    0  ...    0  463   \n",
      "\n",
      "AGE         43   44   45   46   47   48   49   50  \n",
      "AGEGROUP3                                          \n",
      "(25, 33]     0    0    0    0    0    0    0    0  \n",
      "(33, 41]     0    0    0    0    0    0    0    0  \n",
      "(41, 50]   398  381  434  396  365  377  331  325  \n",
      "\n",
      "[3 rows x 25 columns]\n"
     ]
    }
   ],
   "source": [
    "#crosstabs evaluating which ages were put into which AGEGROUP3\n",
    "# 创建交叉表，评估每个年龄组包含哪些年龄\n",
    "age_group_crosstab = pd.crosstab(sub2['AGEGROUP3'], sub2['AGE'])\n",
    "\n",
    "# 打印交叉表\n",
    "print(age_group_crosstab)\n"
   ]
  }
 ],
 "metadata": {
  "kernelspec": {
   "display_name": "base",
   "language": "python",
   "name": "python3"
  },
  "language_info": {
   "codemirror_mode": {
    "name": "ipython",
    "version": 3
   },
   "file_extension": ".py",
   "mimetype": "text/x-python",
   "name": "python",
   "nbconvert_exporter": "python",
   "pygments_lexer": "ipython3",
   "version": "3.12.4"
  }
 },
 "nbformat": 4,
 "nbformat_minor": 2
}
