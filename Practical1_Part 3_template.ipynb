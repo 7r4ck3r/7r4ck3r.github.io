{
 "cells": [
  {
   "cell_type": "markdown",
   "metadata": {},
   "source": [
    "# First Name:Haoyu\n",
    "# Last Name: Mi"
   ]
  },
  {
   "cell_type": "markdown",
   "metadata": {},
   "source": [
    "# Importing libraries"
   ]
  },
  {
   "cell_type": "code",
   "execution_count": 17,
   "metadata": {
    "collapsed": true
   },
   "outputs": [],
   "source": [
    "#import pandas & numpy\n",
    "import pandas as pd\n",
    "import numpy as np"
   ]
  },
  {
   "cell_type": "markdown",
   "metadata": {},
   "source": [
    "# 1. Read in the nesarc.csv file"
   ]
  },
  {
   "cell_type": "code",
   "execution_count": 18,
   "metadata": {
    "collapsed": true
   },
   "outputs": [],
   "source": [
    "#read in csv file into \n",
    "nesarc = pd.read_csv('nesarc.csv', low_memory=False) #increase efficiency"
   ]
  },
  {
   "cell_type": "markdown",
   "metadata": {},
   "source": [
    "# 2. Print the number of rows, columns in nesarc "
   ]
  },
  {
   "cell_type": "code",
   "execution_count": 19,
   "metadata": {
    "collapsed": true
   },
   "outputs": [
    {
     "name": "stdout",
     "output_type": "stream",
     "text": [
      "43093\n",
      "760\n"
     ]
    },
    {
     "data": {
      "text/html": [
       "<div>\n",
       "<style scoped>\n",
       "    .dataframe tbody tr th:only-of-type {\n",
       "        vertical-align: middle;\n",
       "    }\n",
       "\n",
       "    .dataframe tbody tr th {\n",
       "        vertical-align: top;\n",
       "    }\n",
       "\n",
       "    .dataframe thead th {\n",
       "        text-align: right;\n",
       "    }\n",
       "</style>\n",
       "<table border=\"1\" class=\"dataframe\">\n",
       "  <thead>\n",
       "    <tr style=\"text-align: right;\">\n",
       "      <th></th>\n",
       "      <th>Unnamed: 0</th>\n",
       "      <th>ETHRACE2A</th>\n",
       "      <th>ETOTLCA2</th>\n",
       "      <th>IDNUM</th>\n",
       "      <th>PSU</th>\n",
       "      <th>STRATUM</th>\n",
       "      <th>WEIGHT</th>\n",
       "      <th>CDAY</th>\n",
       "      <th>CMON</th>\n",
       "      <th>CYEAR</th>\n",
       "      <th>...</th>\n",
       "      <th>SOLP12ABDEP</th>\n",
       "      <th>HAL12ABDEP</th>\n",
       "      <th>HALP12ABDEP</th>\n",
       "      <th>MAR12ABDEP</th>\n",
       "      <th>MARP12ABDEP</th>\n",
       "      <th>HER12ABDEP</th>\n",
       "      <th>HERP12ABDEP</th>\n",
       "      <th>OTHB12ABDEP</th>\n",
       "      <th>OTHBP12ABDEP</th>\n",
       "      <th>NDSymptoms</th>\n",
       "    </tr>\n",
       "  </thead>\n",
       "  <tbody>\n",
       "    <tr>\n",
       "      <th>43087</th>\n",
       "      <td>43087</td>\n",
       "      <td>1</td>\n",
       "      <td>0.2641</td>\n",
       "      <td>43088</td>\n",
       "      <td>42037</td>\n",
       "      <td>4209</td>\n",
       "      <td>9663.995112</td>\n",
       "      <td>23</td>\n",
       "      <td>1</td>\n",
       "      <td>2002</td>\n",
       "      <td>...</td>\n",
       "      <td>0</td>\n",
       "      <td>0</td>\n",
       "      <td>0</td>\n",
       "      <td>0</td>\n",
       "      <td>0</td>\n",
       "      <td>0</td>\n",
       "      <td>0</td>\n",
       "      <td>0</td>\n",
       "      <td>0</td>\n",
       "      <td>2.0</td>\n",
       "    </tr>\n",
       "    <tr>\n",
       "      <th>43088</th>\n",
       "      <td>43088</td>\n",
       "      <td>1</td>\n",
       "      <td></td>\n",
       "      <td>43089</td>\n",
       "      <td>12010</td>\n",
       "      <td>1208</td>\n",
       "      <td>10477.240840</td>\n",
       "      <td>27</td>\n",
       "      <td>11</td>\n",
       "      <td>2001</td>\n",
       "      <td>...</td>\n",
       "      <td>0</td>\n",
       "      <td>0</td>\n",
       "      <td>0</td>\n",
       "      <td>0</td>\n",
       "      <td>0</td>\n",
       "      <td>0</td>\n",
       "      <td>0</td>\n",
       "      <td>0</td>\n",
       "      <td>0</td>\n",
       "      <td>NaN</td>\n",
       "    </tr>\n",
       "    <tr>\n",
       "      <th>43089</th>\n",
       "      <td>43089</td>\n",
       "      <td>1</td>\n",
       "      <td>0.2237</td>\n",
       "      <td>43090</td>\n",
       "      <td>17099</td>\n",
       "      <td>1704</td>\n",
       "      <td>9014.746280</td>\n",
       "      <td>30</td>\n",
       "      <td>10</td>\n",
       "      <td>2001</td>\n",
       "      <td>...</td>\n",
       "      <td>0</td>\n",
       "      <td>0</td>\n",
       "      <td>0</td>\n",
       "      <td>0</td>\n",
       "      <td>0</td>\n",
       "      <td>0</td>\n",
       "      <td>0</td>\n",
       "      <td>0</td>\n",
       "      <td>0</td>\n",
       "      <td>NaN</td>\n",
       "    </tr>\n",
       "    <tr>\n",
       "      <th>43090</th>\n",
       "      <td>43090</td>\n",
       "      <td>1</td>\n",
       "      <td>0.3785</td>\n",
       "      <td>43091</td>\n",
       "      <td>18094</td>\n",
       "      <td>1802</td>\n",
       "      <td>8079.917091</td>\n",
       "      <td>16</td>\n",
       "      <td>10</td>\n",
       "      <td>2001</td>\n",
       "      <td>...</td>\n",
       "      <td>0</td>\n",
       "      <td>0</td>\n",
       "      <td>0</td>\n",
       "      <td>0</td>\n",
       "      <td>0</td>\n",
       "      <td>0</td>\n",
       "      <td>0</td>\n",
       "      <td>0</td>\n",
       "      <td>0</td>\n",
       "      <td>NaN</td>\n",
       "    </tr>\n",
       "    <tr>\n",
       "      <th>43091</th>\n",
       "      <td>43091</td>\n",
       "      <td>1</td>\n",
       "      <td>14.0831</td>\n",
       "      <td>43092</td>\n",
       "      <td>31035</td>\n",
       "      <td>3104</td>\n",
       "      <td>10367.259020</td>\n",
       "      <td>26</td>\n",
       "      <td>9</td>\n",
       "      <td>2001</td>\n",
       "      <td>...</td>\n",
       "      <td>3</td>\n",
       "      <td>0</td>\n",
       "      <td>3</td>\n",
       "      <td>0</td>\n",
       "      <td>3</td>\n",
       "      <td>0</td>\n",
       "      <td>0</td>\n",
       "      <td>0</td>\n",
       "      <td>0</td>\n",
       "      <td>NaN</td>\n",
       "    </tr>\n",
       "    <tr>\n",
       "      <th>43092</th>\n",
       "      <td>43092</td>\n",
       "      <td>1</td>\n",
       "      <td></td>\n",
       "      <td>43093</td>\n",
       "      <td>17099</td>\n",
       "      <td>1704</td>\n",
       "      <td>9014.746280</td>\n",
       "      <td>1</td>\n",
       "      <td>11</td>\n",
       "      <td>2001</td>\n",
       "      <td>...</td>\n",
       "      <td>0</td>\n",
       "      <td>0</td>\n",
       "      <td>0</td>\n",
       "      <td>1</td>\n",
       "      <td>1</td>\n",
       "      <td>0</td>\n",
       "      <td>0</td>\n",
       "      <td>0</td>\n",
       "      <td>0</td>\n",
       "      <td>NaN</td>\n",
       "    </tr>\n",
       "  </tbody>\n",
       "</table>\n",
       "<p>6 rows × 760 columns</p>\n",
       "</div>"
      ],
      "text/plain": [
       "       Unnamed: 0  ETHRACE2A ETOTLCA2  IDNUM    PSU  STRATUM        WEIGHT  \\\n",
       "43087       43087          1   0.2641  43088  42037     4209   9663.995112   \n",
       "43088       43088          1           43089  12010     1208  10477.240840   \n",
       "43089       43089          1   0.2237  43090  17099     1704   9014.746280   \n",
       "43090       43090          1   0.3785  43091  18094     1802   8079.917091   \n",
       "43091       43091          1  14.0831  43092  31035     3104  10367.259020   \n",
       "43092       43092          1           43093  17099     1704   9014.746280   \n",
       "\n",
       "       CDAY  CMON  CYEAR  ...  SOLP12ABDEP  HAL12ABDEP  HALP12ABDEP  \\\n",
       "43087    23     1   2002  ...            0           0            0   \n",
       "43088    27    11   2001  ...            0           0            0   \n",
       "43089    30    10   2001  ...            0           0            0   \n",
       "43090    16    10   2001  ...            0           0            0   \n",
       "43091    26     9   2001  ...            3           0            3   \n",
       "43092     1    11   2001  ...            0           0            0   \n",
       "\n",
       "       MAR12ABDEP  MARP12ABDEP  HER12ABDEP  HERP12ABDEP  OTHB12ABDEP  \\\n",
       "43087           0            0           0            0            0   \n",
       "43088           0            0           0            0            0   \n",
       "43089           0            0           0            0            0   \n",
       "43090           0            0           0            0            0   \n",
       "43091           0            3           0            0            0   \n",
       "43092           1            1           0            0            0   \n",
       "\n",
       "       OTHBP12ABDEP  NDSymptoms  \n",
       "43087             0         2.0  \n",
       "43088             0         NaN  \n",
       "43089             0         NaN  \n",
       "43090             0         NaN  \n",
       "43091             0         NaN  \n",
       "43092             0         NaN  \n",
       "\n",
       "[6 rows x 760 columns]"
      ]
     },
     "execution_count": 19,
     "metadata": {},
     "output_type": "execute_result"
    }
   ],
   "source": [
    "print (len(nesarc)) #number of rows (observations)\n",
    "print (len(nesarc.columns)) # number of columns (variables)\n",
    "nesarc.tail(6) "
   ]
  },
  {
   "cell_type": "markdown",
   "metadata": {},
   "source": [
    "# Printing the first 5 rows of nesarc"
   ]
  },
  {
   "cell_type": "code",
   "execution_count": 20,
   "metadata": {
    "collapsed": true
   },
   "outputs": [
    {
     "data": {
      "text/html": [
       "<div>\n",
       "<style scoped>\n",
       "    .dataframe tbody tr th:only-of-type {\n",
       "        vertical-align: middle;\n",
       "    }\n",
       "\n",
       "    .dataframe tbody tr th {\n",
       "        vertical-align: top;\n",
       "    }\n",
       "\n",
       "    .dataframe thead th {\n",
       "        text-align: right;\n",
       "    }\n",
       "</style>\n",
       "<table border=\"1\" class=\"dataframe\">\n",
       "  <thead>\n",
       "    <tr style=\"text-align: right;\">\n",
       "      <th></th>\n",
       "      <th>Unnamed: 0</th>\n",
       "      <th>ETHRACE2A</th>\n",
       "      <th>ETOTLCA2</th>\n",
       "      <th>IDNUM</th>\n",
       "      <th>PSU</th>\n",
       "      <th>STRATUM</th>\n",
       "      <th>WEIGHT</th>\n",
       "      <th>CDAY</th>\n",
       "      <th>CMON</th>\n",
       "      <th>CYEAR</th>\n",
       "      <th>...</th>\n",
       "      <th>SOLP12ABDEP</th>\n",
       "      <th>HAL12ABDEP</th>\n",
       "      <th>HALP12ABDEP</th>\n",
       "      <th>MAR12ABDEP</th>\n",
       "      <th>MARP12ABDEP</th>\n",
       "      <th>HER12ABDEP</th>\n",
       "      <th>HERP12ABDEP</th>\n",
       "      <th>OTHB12ABDEP</th>\n",
       "      <th>OTHBP12ABDEP</th>\n",
       "      <th>NDSymptoms</th>\n",
       "    </tr>\n",
       "  </thead>\n",
       "  <tbody>\n",
       "    <tr>\n",
       "      <th>0</th>\n",
       "      <td>0</td>\n",
       "      <td>5</td>\n",
       "      <td></td>\n",
       "      <td>1</td>\n",
       "      <td>4007</td>\n",
       "      <td>403</td>\n",
       "      <td>3928.613505</td>\n",
       "      <td>14</td>\n",
       "      <td>8</td>\n",
       "      <td>2001</td>\n",
       "      <td>...</td>\n",
       "      <td>0</td>\n",
       "      <td>0</td>\n",
       "      <td>0</td>\n",
       "      <td>0</td>\n",
       "      <td>0</td>\n",
       "      <td>0</td>\n",
       "      <td>0</td>\n",
       "      <td>0</td>\n",
       "      <td>0</td>\n",
       "      <td>NaN</td>\n",
       "    </tr>\n",
       "    <tr>\n",
       "      <th>1</th>\n",
       "      <td>1</td>\n",
       "      <td>5</td>\n",
       "      <td>0.0014</td>\n",
       "      <td>2</td>\n",
       "      <td>6045</td>\n",
       "      <td>604</td>\n",
       "      <td>3638.691845</td>\n",
       "      <td>12</td>\n",
       "      <td>1</td>\n",
       "      <td>2002</td>\n",
       "      <td>...</td>\n",
       "      <td>0</td>\n",
       "      <td>0</td>\n",
       "      <td>0</td>\n",
       "      <td>0</td>\n",
       "      <td>0</td>\n",
       "      <td>0</td>\n",
       "      <td>0</td>\n",
       "      <td>0</td>\n",
       "      <td>0</td>\n",
       "      <td>NaN</td>\n",
       "    </tr>\n",
       "    <tr>\n",
       "      <th>2</th>\n",
       "      <td>2</td>\n",
       "      <td>5</td>\n",
       "      <td></td>\n",
       "      <td>3</td>\n",
       "      <td>12042</td>\n",
       "      <td>1218</td>\n",
       "      <td>5779.032025</td>\n",
       "      <td>23</td>\n",
       "      <td>11</td>\n",
       "      <td>2001</td>\n",
       "      <td>...</td>\n",
       "      <td>0</td>\n",
       "      <td>0</td>\n",
       "      <td>0</td>\n",
       "      <td>0</td>\n",
       "      <td>0</td>\n",
       "      <td>0</td>\n",
       "      <td>0</td>\n",
       "      <td>0</td>\n",
       "      <td>0</td>\n",
       "      <td>NaN</td>\n",
       "    </tr>\n",
       "    <tr>\n",
       "      <th>3</th>\n",
       "      <td>3</td>\n",
       "      <td>5</td>\n",
       "      <td></td>\n",
       "      <td>4</td>\n",
       "      <td>17099</td>\n",
       "      <td>1704</td>\n",
       "      <td>1071.754303</td>\n",
       "      <td>9</td>\n",
       "      <td>9</td>\n",
       "      <td>2001</td>\n",
       "      <td>...</td>\n",
       "      <td>0</td>\n",
       "      <td>0</td>\n",
       "      <td>0</td>\n",
       "      <td>0</td>\n",
       "      <td>0</td>\n",
       "      <td>0</td>\n",
       "      <td>0</td>\n",
       "      <td>0</td>\n",
       "      <td>0</td>\n",
       "      <td>NaN</td>\n",
       "    </tr>\n",
       "    <tr>\n",
       "      <th>4</th>\n",
       "      <td>4</td>\n",
       "      <td>2</td>\n",
       "      <td></td>\n",
       "      <td>5</td>\n",
       "      <td>17099</td>\n",
       "      <td>1704</td>\n",
       "      <td>4986.952377</td>\n",
       "      <td>18</td>\n",
       "      <td>10</td>\n",
       "      <td>2001</td>\n",
       "      <td>...</td>\n",
       "      <td>0</td>\n",
       "      <td>0</td>\n",
       "      <td>0</td>\n",
       "      <td>0</td>\n",
       "      <td>0</td>\n",
       "      <td>0</td>\n",
       "      <td>0</td>\n",
       "      <td>0</td>\n",
       "      <td>0</td>\n",
       "      <td>NaN</td>\n",
       "    </tr>\n",
       "  </tbody>\n",
       "</table>\n",
       "<p>5 rows × 760 columns</p>\n",
       "</div>"
      ],
      "text/plain": [
       "   Unnamed: 0  ETHRACE2A ETOTLCA2  IDNUM    PSU  STRATUM       WEIGHT  CDAY  \\\n",
       "0           0          5               1   4007      403  3928.613505    14   \n",
       "1           1          5   0.0014      2   6045      604  3638.691845    12   \n",
       "2           2          5               3  12042     1218  5779.032025    23   \n",
       "3           3          5               4  17099     1704  1071.754303     9   \n",
       "4           4          2               5  17099     1704  4986.952377    18   \n",
       "\n",
       "   CMON  CYEAR  ...  SOLP12ABDEP  HAL12ABDEP  HALP12ABDEP  MAR12ABDEP  \\\n",
       "0     8   2001  ...            0           0            0           0   \n",
       "1     1   2002  ...            0           0            0           0   \n",
       "2    11   2001  ...            0           0            0           0   \n",
       "3     9   2001  ...            0           0            0           0   \n",
       "4    10   2001  ...            0           0            0           0   \n",
       "\n",
       "   MARP12ABDEP  HER12ABDEP  HERP12ABDEP  OTHB12ABDEP  OTHBP12ABDEP  NDSymptoms  \n",
       "0            0           0            0            0             0         NaN  \n",
       "1            0           0            0            0             0         NaN  \n",
       "2            0           0            0            0             0         NaN  \n",
       "3            0           0            0            0             0         NaN  \n",
       "4            0           0            0            0             0         NaN  \n",
       "\n",
       "[5 rows x 760 columns]"
      ]
     },
     "execution_count": 20,
     "metadata": {},
     "output_type": "execute_result"
    }
   ],
   "source": [
    "#print the first five rows\n",
    "nesarc.head(5)"
   ]
  },
  {
   "cell_type": "markdown",
   "metadata": {},
   "source": [
    "# Convert Alcohol effects - 12 months (S2BQ1B1) to numeric & print first 10 rows"
   ]
  },
  {
   "cell_type": "code",
   "execution_count": 21,
   "metadata": {
    "collapsed": true
   },
   "outputs": [
    {
     "data": {
      "text/plain": [
       "0    NaN\n",
       "1    2.0\n",
       "2    NaN\n",
       "3    NaN\n",
       "4    NaN\n",
       "5    2.0\n",
       "6    2.0\n",
       "7    2.0\n",
       "8    2.0\n",
       "9    1.0\n",
       "Name: S2BQ1B1, dtype: float64"
      ]
     },
     "execution_count": 21,
     "metadata": {},
     "output_type": "execute_result"
    }
   ],
   "source": [
    "#Read in Alcohol effects - 12 months (S2BQ1B1)\n",
    "nesarc['S2BQ1B1'] = pd.to_numeric(nesarc['S2BQ1B1'],errors='coerce') #convert variable to numeric\n",
    "nesarc['S2BQ1B1'].head(10) \n",
    "#print the first 10 rows"
   ]
  },
  {
   "cell_type": "markdown",
   "metadata": {},
   "source": [
    "# Print the count and percentage of  Alcohol effects - 12 months (S2BQ1B1)"
   ]
  },
  {
   "cell_type": "code",
   "execution_count": 22,
   "metadata": {
    "collapsed": true
   },
   "outputs": [
    {
     "name": "stdout",
     "output_type": "stream",
     "text": [
      "counts for S2BQ1B1 alcohol effect in the past 12 months, yes=1\n",
      "S2BQ1B1\n",
      "2.0    25309\n",
      "1.0     1326\n",
      "9.0      311\n",
      "Name: count, dtype: int64\n",
      "percentages for S2BQ1B1 alcohol effect in the past 12 months, yes=1\n",
      "S2BQ1B1\n",
      "2.0    0.939249\n",
      "1.0    0.049210\n",
      "9.0    0.011542\n",
      "Name: proportion, dtype: float64\n"
     ]
    }
   ],
   "source": [
    "#calculate counts for Alcohol effects - 12 months (S2BQ1B1) \n",
    "print ('counts for S2BQ1B1 alcohol effect in the past 12 months, yes=1') #better titles\n",
    "c_al_dep = nesarc['S2BQ1B1'].value_counts(sort=False) #sort by values (not count)\n",
    "print (c_al_dep)\n",
    "\n",
    "#calculate percentages for Alcohol effects - 12 months (S2BQ1B1)\n",
    "print ('percentages for S2BQ1B1 alcohol effect in the past 12 months, yes=1') #better titles\n",
    "p_al_dep =  nesarc['S2BQ1B1'].value_counts(sort=False, normalize=True) #normalize=True will give percentage\n",
    "print (p_al_dep)"
   ]
  },
  {
   "cell_type": "markdown",
   "metadata": {},
   "source": [
    "# Convert Beer drinking status (S2AQ5A) to numeric & print first 10 rows "
   ]
  },
  {
   "cell_type": "code",
   "execution_count": 23,
   "metadata": {
    "collapsed": true
   },
   "outputs": [
    {
     "data": {
      "text/plain": [
       "0     NaN\n",
       "1     1.0\n",
       "2     NaN\n",
       "3     NaN\n",
       "4     NaN\n",
       "5     2.0\n",
       "6     2.0\n",
       "7     2.0\n",
       "8     1.0\n",
       "9     2.0\n",
       "10    1.0\n",
       "11    2.0\n",
       "12    1.0\n",
       "13    1.0\n",
       "14    1.0\n",
       "15    NaN\n",
       "16    1.0\n",
       "17    NaN\n",
       "18    2.0\n",
       "19    1.0\n",
       "20    2.0\n",
       "21    1.0\n",
       "22    NaN\n",
       "23    NaN\n",
       "24    1.0\n",
       "Name: S2AQ5A, dtype: float64"
      ]
     },
     "execution_count": 23,
     "metadata": {},
     "output_type": "execute_result"
    }
   ],
   "source": [
    "nesarc['S2AQ5A'] = pd.to_numeric(nesarc['S2AQ5A'],errors='coerce')  #convert smoking status to numeric\n",
    "nesarc['S2AQ5A'].head(25)  #print the first 25"
   ]
  },
  {
   "cell_type": "code",
   "execution_count": 24,
   "metadata": {
    "collapsed": true
   },
   "outputs": [
    {
     "name": "stdout",
     "output_type": "stream",
     "text": [
      "counts for S2AQ5A beer drinking in the past year, yes=1\n",
      "S2AQ5A\n",
      "1.0    18346\n",
      "NaN    16147\n",
      "2.0     8562\n",
      "9.0       38\n",
      "Name: count, dtype: int64\n",
      "percentages for S2AQ5A beer drinking in the past year, yes=1\n",
      "S2AQ5A\n",
      "1.0    0.680843\n",
      "2.0    0.317747\n",
      "9.0    0.001410\n",
      "Name: proportion, dtype: float64\n"
     ]
    }
   ],
   "source": [
    "c_beer_status = nesarc['S2AQ5A'].value_counts(dropna=False) #dropna=False to keep NaN in calculation\n",
    "print ('counts for S2AQ5A beer drinking in the past year, yes=1')\n",
    "print(c_beer_status)\n",
    "\n",
    "p_beer_status =  nesarc['S2AQ5A'].value_counts(sort=False, normalize=True)\n",
    "print ('percentages for S2AQ5A beer drinking in the past year, yes=1')\n",
    "print (p_beer_status)"
   ]
  },
  {
   "cell_type": "markdown",
   "metadata": {},
   "source": [
    "# Convert HOW OFTEN DRANK BEER IN LAST 12 MONTHS (S2AQ5B) to numeric & print first 10 rows"
   ]
  },
  {
   "cell_type": "code",
   "execution_count": 25,
   "metadata": {
    "collapsed": true
   },
   "outputs": [
    {
     "data": {
      "text/plain": [
       "0     NaN\n",
       "1    10.0\n",
       "2     NaN\n",
       "3     NaN\n",
       "4     NaN\n",
       "5     NaN\n",
       "6     NaN\n",
       "7     NaN\n",
       "8     9.0\n",
       "9     NaN\n",
       "Name: S2AQ5B, dtype: float64"
      ]
     },
     "execution_count": 25,
     "metadata": {},
     "output_type": "execute_result"
    }
   ],
   "source": [
    "nesarc['S2AQ5B'] = pd.to_numeric(nesarc['S2AQ5B'],errors='coerce')\n",
    "nesarc['S2AQ5B'].head(10)"
   ]
  },
  {
   "cell_type": "markdown",
   "metadata": {},
   "source": [
    "# Print the count and percentage of HOW OFTEN DRANK BEER IN LAST 12 MONTHS (S2AQ5B)"
   ]
  },
  {
   "cell_type": "code",
   "execution_count": 26,
   "metadata": {
    "collapsed": true
   },
   "outputs": [
    {
     "name": "stdout",
     "output_type": "stream",
     "text": [
      "counts for S2AQ5B – usual frequency when drinking beer\n",
      "S2AQ5B\n",
      "1.0      836\n",
      "2.0      645\n",
      "3.0     1535\n",
      "4.0     2190\n",
      "5.0     2451\n",
      "6.0     2603\n",
      "7.0     2127\n",
      "8.0     1194\n",
      "9.0     2268\n",
      "10.0    2442\n",
      "99.0      55\n",
      "Name: count, dtype: int64\n",
      "percentages for S2AQ5B - usual frequency when drinking beer\n",
      "S2AQ5B\n",
      "6.0     0.141884\n",
      "5.0     0.133599\n",
      "10.0    0.133108\n",
      "9.0     0.123624\n",
      "4.0     0.119372\n",
      "7.0     0.115938\n",
      "3.0     0.083669\n",
      "8.0     0.065082\n",
      "1.0     0.045569\n",
      "2.0     0.035158\n",
      "99.0    0.002998\n",
      "Name: proportion, dtype: float64\n"
     ]
    }
   ],
   "source": [
    "nesarc['S2AQ5B'] = nesarc['S2AQ5B'].astype('category') #set the data type as categorical data\n",
    "\n",
    "c_beer_feq = nesarc['S2AQ5B'].value_counts(sort=False)\n",
    "print ('counts for S2AQ5B – usual frequency when drinking beer')\n",
    "print(c_beer_feq)\n",
    "\n",
    "p_beer_feq = nesarc['S2AQ5B'].value_counts(sort=True, normalize=True)\n",
    "print ('percentages for S2AQ5B - usual frequency when drinking beer')\n",
    "print (p_beer_feq)"
   ]
  },
  {
   "cell_type": "markdown",
   "metadata": {},
   "source": [
    "# Convert NUMBER OF BEERS USUALLY CONSUMED ON DAYS WHEN DRANK BEER IN LAST 12 MONTHS (S2AQ5D) to numeric & print first 10 rows"
   ]
  },
  {
   "cell_type": "code",
   "execution_count": 27,
   "metadata": {
    "collapsed": true
   },
   "outputs": [
    {
     "data": {
      "text/plain": [
       "0    NaN\n",
       "1    1.0\n",
       "2    NaN\n",
       "3    NaN\n",
       "4    NaN\n",
       "5    NaN\n",
       "6    NaN\n",
       "7    NaN\n",
       "8    1.0\n",
       "9    NaN\n",
       "Name: S2AQ5D, dtype: float64"
      ]
     },
     "execution_count": 27,
     "metadata": {},
     "output_type": "execute_result"
    }
   ],
   "source": [
    "nesarc['S2AQ5D'] = pd.to_numeric(nesarc['S2AQ5D'],errors='coerce')\n",
    "nesarc['S2AQ5D'].head(10)"
   ]
  },
  {
   "cell_type": "markdown",
   "metadata": {},
   "source": [
    "# Print the count and percentage of NUMBER OF BEERS USUALLY CONSUMED ON DAYS WHEN DRANK BEER IN LAST 12 MONTHS (S2AQ5D)"
   ]
  },
  {
   "cell_type": "code",
   "execution_count": 28,
   "metadata": {
    "collapsed": true
   },
   "outputs": [
    {
     "name": "stdout",
     "output_type": "stream",
     "text": [
      "counts for S2AQ5D usual quantity when drink beer\n",
      "S2AQ5D\n",
      "1.0     7122\n",
      "3.0     2564\n",
      "4.0     1224\n",
      "2.0     4938\n",
      "5.0      507\n",
      "10.0     108\n",
      "6.0     1128\n",
      "8.0      205\n",
      "12.0     231\n",
      "42.0       1\n",
      "7.0      118\n",
      "24.0      23\n",
      "99.0      78\n",
      "13.0       3\n",
      "20.0       7\n",
      "11.0       6\n",
      "9.0       28\n",
      "18.0      18\n",
      "15.0      21\n",
      "14.0       6\n",
      "25.0       1\n",
      "36.0       1\n",
      "17.0       4\n",
      "30.0       3\n",
      "16.0       1\n",
      "Name: count, dtype: int64\n",
      "percentages for S2AQ5D usual quantity when drink beer\n",
      "S2AQ5D\n",
      "1.0     0.388205\n",
      "3.0     0.139758\n",
      "4.0     0.066718\n",
      "2.0     0.269159\n",
      "5.0     0.027635\n",
      "10.0    0.005887\n",
      "6.0     0.061485\n",
      "8.0     0.011174\n",
      "12.0    0.012591\n",
      "42.0    0.000055\n",
      "7.0     0.006432\n",
      "24.0    0.001254\n",
      "99.0    0.004252\n",
      "13.0    0.000164\n",
      "20.0    0.000382\n",
      "11.0    0.000327\n",
      "9.0     0.001526\n",
      "18.0    0.000981\n",
      "15.0    0.001145\n",
      "14.0    0.000327\n",
      "25.0    0.000055\n",
      "36.0    0.000055\n",
      "17.0    0.000218\n",
      "30.0    0.000164\n",
      "16.0    0.000055\n",
      "Name: proportion, dtype: float64\n"
     ]
    }
   ],
   "source": [
    "c_beer_quan = nesarc['S2AQ5D'].value_counts(sort=False)\n",
    "print ('counts for S2AQ5D usual quantity when drink beer')\n",
    "print(c_beer_quan)\n",
    "\n",
    "p_beer_quan = nesarc['S2AQ5D'].value_counts(sort=False, normalize=True)\n",
    "print ('percentages for S2AQ5D usual quantity when drink beer')\n",
    "print (p_beer_quan)"
   ]
  },
  {
   "cell_type": "markdown",
   "metadata": {},
   "source": [
    "# Use groupby () to calculate count & percentage for Alcohol effects - 12 months (S2BQ1B1)"
   ]
  },
  {
   "cell_type": "code",
   "execution_count": 29,
   "metadata": {
    "collapsed": true
   },
   "outputs": [
    {
     "name": "stdout",
     "output_type": "stream",
     "text": [
      "S2BQ1B1\n",
      "1.0     1326\n",
      "2.0    25309\n",
      "9.0      311\n",
      "dtype: int64\n"
     ]
    }
   ],
   "source": [
    "#count using groupby\n",
    "c_al_dep_alt = nesarc.groupby('S2BQ1B1').size()\n",
    "print(c_al_dep_alt)"
   ]
  },
  {
   "cell_type": "code",
   "execution_count": 30,
   "metadata": {
    "collapsed": true
   },
   "outputs": [
    {
     "name": "stdout",
     "output_type": "stream",
     "text": [
      "S2BQ1B1\n",
      "1.0     3.077066\n",
      "2.0    58.731116\n",
      "9.0     0.721695\n",
      "dtype: float64\n"
     ]
    }
   ],
   "source": [
    "p_al_dep_alt = nesarc.groupby('S2BQ1B1').size()*100/len(nesarc)\n",
    "print(p_al_dep_alt)"
   ]
  },
  {
   "cell_type": "markdown",
   "metadata": {},
   "source": [
    "# Obtain a subset of nesarc data, with the following criteria\n",
    "# Age from 26 to 50\n",
    "# Beer drinking status - S2AQ5A = Y"
   ]
  },
  {
   "cell_type": "code",
   "execution_count": 40,
   "metadata": {
    "collapsed": true
   },
   "outputs": [
    {
     "name": "stdout",
     "output_type": "stream",
     "text": [
      "counts for AGE\n",
      "AGE\n",
      "28    347\n",
      "29    407\n",
      "31    453\n",
      "38    504\n",
      "36    464\n",
      "44    381\n",
      "32    502\n",
      "42    463\n",
      "33    423\n",
      "39    464\n",
      "40    497\n",
      "34    462\n",
      "45    434\n",
      "26    325\n",
      "41    445\n",
      "48    377\n",
      "43    398\n",
      "50    325\n",
      "35    416\n",
      "49    331\n",
      "37    498\n",
      "46    396\n",
      "27    397\n",
      "30    443\n",
      "47    365\n",
      "Name: count, dtype: int64\n",
      "percentages for AGE\n",
      "AGE\n",
      "28    0.032994\n",
      "29    0.038699\n",
      "31    0.043073\n",
      "38    0.047922\n",
      "36    0.044119\n",
      "44    0.036227\n",
      "32    0.047732\n",
      "42    0.044024\n",
      "33    0.040221\n",
      "39    0.044119\n",
      "40    0.047257\n",
      "34    0.043929\n",
      "45    0.041267\n",
      "26    0.030902\n",
      "41    0.042312\n",
      "48    0.035847\n",
      "43    0.037843\n",
      "50    0.030902\n",
      "35    0.039555\n",
      "49    0.031473\n",
      "37    0.047352\n",
      "46    0.037653\n",
      "27    0.037748\n",
      "30    0.042122\n",
      "47    0.034706\n",
      "Name: proportion, dtype: float64\n"
     ]
    }
   ],
   "source": [
    "nesarc['AGE'] = pd.to_numeric(nesarc['AGE'], errors='coerce')\n",
    "\n",
    "#subset data to young adults age 26 to 50 who have drink beer in the past 12 months\n",
    "sub1= sub1=nesarc[(nesarc['AGE']>=26) & (nesarc['AGE']<=50) & (nesarc['S2AQ5A']== 1)] #Y=Yes=1\n",
    "\n",
    "\n",
    "#make a copy of the new subsetted data\n",
    "sub2 = sub1.copy()\n",
    "\n",
    "c5 = sub2['AGE'].value_counts(sort=False)\n",
    "print ('counts for AGE')\n",
    "print(c5)\n",
    "\n",
    "p5 = sub2['AGE'].value_counts(sort=False, normalize=True)\n",
    "print ('percentages for AGE')\n",
    "print (p5)\n",
    "\n"
   ]
  }
 ],
 "metadata": {
  "kernelspec": {
   "display_name": "base",
   "language": "python",
   "name": "python3"
  },
  "language_info": {
   "codemirror_mode": {
    "name": "ipython",
    "version": 3
   },
   "file_extension": ".py",
   "mimetype": "text/x-python",
   "name": "python",
   "nbconvert_exporter": "python",
   "pygments_lexer": "ipython3",
   "version": "3.12.4"
  }
 },
 "nbformat": 4,
 "nbformat_minor": 2
}
